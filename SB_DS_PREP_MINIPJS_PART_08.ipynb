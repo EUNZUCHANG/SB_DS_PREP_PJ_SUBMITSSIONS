{
 "cells": [
  {
   "cell_type": "markdown",
   "id": "95a58c3a",
   "metadata": {},
   "source": [
    "# SPRINGBOARD DATA SCIENCE PREP COURSE - MINI PROJECTS - PART 08"
   ]
  },
  {
   "cell_type": "markdown",
   "id": "a5659d37",
   "metadata": {},
   "source": [
    "### 1. conda install -c pandas-datareader or pip install if you don't have Anaconda"
   ]
  },
  {
   "cell_type": "code",
   "execution_count": 1,
   "id": "84aab056",
   "metadata": {},
   "outputs": [],
   "source": [
    "import numpy as np\n",
    "import pandas as pd\n",
    "%matplotlib inline\n",
    "import matplotlib.pyplot as plt\n",
    "import pandas_datareader as pdr"
   ]
  },
  {
   "cell_type": "markdown",
   "id": "6d825732",
   "metadata": {},
   "source": [
    "### 2. Get Data (5 Years, Google And Amazon)"
   ]
  },
  {
   "cell_type": "code",
   "execution_count": 2,
   "id": "78f05bd1",
   "metadata": {},
   "outputs": [],
   "source": [
    "amzn = pdr.get_data_yahoo('AMZN','20121101')\n",
    "goog = pdr.get_data_yahoo('GOOG','2012-11-01')"
   ]
  },
  {
   "cell_type": "markdown",
   "id": "759d7a5b",
   "metadata": {},
   "source": [
    "### 3. View head, tail and info"
   ]
  },
  {
   "cell_type": "code",
   "execution_count": 3,
   "id": "c1a20a50",
   "metadata": {},
   "outputs": [
    {
     "data": {
      "text/html": [
       "<div>\n",
       "<style scoped>\n",
       "    .dataframe tbody tr th:only-of-type {\n",
       "        vertical-align: middle;\n",
       "    }\n",
       "\n",
       "    .dataframe tbody tr th {\n",
       "        vertical-align: top;\n",
       "    }\n",
       "\n",
       "    .dataframe thead th {\n",
       "        text-align: right;\n",
       "    }\n",
       "</style>\n",
       "<table border=\"1\" class=\"dataframe\">\n",
       "  <thead>\n",
       "    <tr style=\"text-align: right;\">\n",
       "      <th></th>\n",
       "      <th>High</th>\n",
       "      <th>Low</th>\n",
       "      <th>Open</th>\n",
       "      <th>Close</th>\n",
       "      <th>Volume</th>\n",
       "      <th>Adj Close</th>\n",
       "    </tr>\n",
       "    <tr>\n",
       "      <th>Date</th>\n",
       "      <th></th>\n",
       "      <th></th>\n",
       "      <th></th>\n",
       "      <th></th>\n",
       "      <th></th>\n",
       "      <th></th>\n",
       "    </tr>\n",
       "  </thead>\n",
       "  <tbody>\n",
       "    <tr>\n",
       "      <th>2012-11-01</th>\n",
       "      <td>234.550003</td>\n",
       "      <td>231.339996</td>\n",
       "      <td>234.229996</td>\n",
       "      <td>232.139999</td>\n",
       "      <td>3905100</td>\n",
       "      <td>232.139999</td>\n",
       "    </tr>\n",
       "    <tr>\n",
       "      <th>2012-11-02</th>\n",
       "      <td>237.399994</td>\n",
       "      <td>232.110001</td>\n",
       "      <td>234.009995</td>\n",
       "      <td>232.419998</td>\n",
       "      <td>3374700</td>\n",
       "      <td>232.419998</td>\n",
       "    </tr>\n",
       "    <tr>\n",
       "      <th>2012-11-05</th>\n",
       "      <td>234.830002</td>\n",
       "      <td>230.110001</td>\n",
       "      <td>232.039993</td>\n",
       "      <td>234.330002</td>\n",
       "      <td>1846100</td>\n",
       "      <td>234.330002</td>\n",
       "    </tr>\n",
       "    <tr>\n",
       "      <th>2012-11-06</th>\n",
       "      <td>237.750000</td>\n",
       "      <td>234.449997</td>\n",
       "      <td>235.410004</td>\n",
       "      <td>237.559998</td>\n",
       "      <td>2661300</td>\n",
       "      <td>237.559998</td>\n",
       "    </tr>\n",
       "    <tr>\n",
       "      <th>2012-11-07</th>\n",
       "      <td>235.660004</td>\n",
       "      <td>229.419998</td>\n",
       "      <td>235.649994</td>\n",
       "      <td>232.059998</td>\n",
       "      <td>3624200</td>\n",
       "      <td>232.059998</td>\n",
       "    </tr>\n",
       "  </tbody>\n",
       "</table>\n",
       "</div>"
      ],
      "text/plain": [
       "                  High         Low        Open       Close   Volume  \\\n",
       "Date                                                                  \n",
       "2012-11-01  234.550003  231.339996  234.229996  232.139999  3905100   \n",
       "2012-11-02  237.399994  232.110001  234.009995  232.419998  3374700   \n",
       "2012-11-05  234.830002  230.110001  232.039993  234.330002  1846100   \n",
       "2012-11-06  237.750000  234.449997  235.410004  237.559998  2661300   \n",
       "2012-11-07  235.660004  229.419998  235.649994  232.059998  3624200   \n",
       "\n",
       "             Adj Close  \n",
       "Date                    \n",
       "2012-11-01  232.139999  \n",
       "2012-11-02  232.419998  \n",
       "2012-11-05  234.330002  \n",
       "2012-11-06  237.559998  \n",
       "2012-11-07  232.059998  "
      ]
     },
     "execution_count": 3,
     "metadata": {},
     "output_type": "execute_result"
    }
   ],
   "source": [
    "amzn.head()"
   ]
  },
  {
   "cell_type": "code",
   "execution_count": 4,
   "id": "2a46eb52",
   "metadata": {},
   "outputs": [
    {
     "data": {
      "text/html": [
       "<div>\n",
       "<style scoped>\n",
       "    .dataframe tbody tr th:only-of-type {\n",
       "        vertical-align: middle;\n",
       "    }\n",
       "\n",
       "    .dataframe tbody tr th {\n",
       "        vertical-align: top;\n",
       "    }\n",
       "\n",
       "    .dataframe thead th {\n",
       "        text-align: right;\n",
       "    }\n",
       "</style>\n",
       "<table border=\"1\" class=\"dataframe\">\n",
       "  <thead>\n",
       "    <tr style=\"text-align: right;\">\n",
       "      <th></th>\n",
       "      <th>High</th>\n",
       "      <th>Low</th>\n",
       "      <th>Open</th>\n",
       "      <th>Close</th>\n",
       "      <th>Volume</th>\n",
       "      <th>Adj Close</th>\n",
       "    </tr>\n",
       "    <tr>\n",
       "      <th>Date</th>\n",
       "      <th></th>\n",
       "      <th></th>\n",
       "      <th></th>\n",
       "      <th></th>\n",
       "      <th></th>\n",
       "      <th></th>\n",
       "    </tr>\n",
       "  </thead>\n",
       "  <tbody>\n",
       "    <tr>\n",
       "      <th>2022-01-31</th>\n",
       "      <td>3007.209961</td>\n",
       "      <td>2886.010010</td>\n",
       "      <td>2895.000000</td>\n",
       "      <td>2991.469971</td>\n",
       "      <td>3915400</td>\n",
       "      <td>2991.469971</td>\n",
       "    </tr>\n",
       "    <tr>\n",
       "      <th>2022-02-01</th>\n",
       "      <td>3034.159912</td>\n",
       "      <td>2952.550049</td>\n",
       "      <td>3000.000000</td>\n",
       "      <td>3023.870117</td>\n",
       "      <td>2961000</td>\n",
       "      <td>3023.870117</td>\n",
       "    </tr>\n",
       "    <tr>\n",
       "      <th>2022-02-02</th>\n",
       "      <td>3101.500000</td>\n",
       "      <td>2977.270020</td>\n",
       "      <td>3101.010010</td>\n",
       "      <td>3012.250000</td>\n",
       "      <td>4366500</td>\n",
       "      <td>3012.250000</td>\n",
       "    </tr>\n",
       "    <tr>\n",
       "      <th>2022-02-03</th>\n",
       "      <td>2884.949951</td>\n",
       "      <td>2766.659912</td>\n",
       "      <td>2834.750000</td>\n",
       "      <td>2776.909912</td>\n",
       "      <td>11276600</td>\n",
       "      <td>2776.909912</td>\n",
       "    </tr>\n",
       "    <tr>\n",
       "      <th>2022-02-04</th>\n",
       "      <td>3224.000000</td>\n",
       "      <td>3012.159912</td>\n",
       "      <td>3112.129883</td>\n",
       "      <td>3152.790039</td>\n",
       "      <td>12640500</td>\n",
       "      <td>3152.790039</td>\n",
       "    </tr>\n",
       "  </tbody>\n",
       "</table>\n",
       "</div>"
      ],
      "text/plain": [
       "                   High          Low         Open        Close    Volume  \\\n",
       "Date                                                                       \n",
       "2022-01-31  3007.209961  2886.010010  2895.000000  2991.469971   3915400   \n",
       "2022-02-01  3034.159912  2952.550049  3000.000000  3023.870117   2961000   \n",
       "2022-02-02  3101.500000  2977.270020  3101.010010  3012.250000   4366500   \n",
       "2022-02-03  2884.949951  2766.659912  2834.750000  2776.909912  11276600   \n",
       "2022-02-04  3224.000000  3012.159912  3112.129883  3152.790039  12640500   \n",
       "\n",
       "              Adj Close  \n",
       "Date                     \n",
       "2022-01-31  2991.469971  \n",
       "2022-02-01  3023.870117  \n",
       "2022-02-02  3012.250000  \n",
       "2022-02-03  2776.909912  \n",
       "2022-02-04  3152.790039  "
      ]
     },
     "execution_count": 4,
     "metadata": {},
     "output_type": "execute_result"
    }
   ],
   "source": [
    "amzn.tail()"
   ]
  },
  {
   "cell_type": "code",
   "execution_count": 5,
   "id": "30338279",
   "metadata": {},
   "outputs": [
    {
     "name": "stdout",
     "output_type": "stream",
     "text": [
      "<class 'pandas.core.frame.DataFrame'>\n",
      "DatetimeIndex: 2332 entries, 2012-11-01 to 2022-02-04\n",
      "Data columns (total 6 columns):\n",
      " #   Column     Non-Null Count  Dtype  \n",
      "---  ------     --------------  -----  \n",
      " 0   High       2332 non-null   float64\n",
      " 1   Low        2332 non-null   float64\n",
      " 2   Open       2332 non-null   float64\n",
      " 3   Close      2332 non-null   float64\n",
      " 4   Volume     2332 non-null   int64  \n",
      " 5   Adj Close  2332 non-null   float64\n",
      "dtypes: float64(5), int64(1)\n",
      "memory usage: 127.5 KB\n"
     ]
    }
   ],
   "source": [
    "amzn.info()"
   ]
  },
  {
   "cell_type": "code",
   "execution_count": 6,
   "id": "05324408",
   "metadata": {},
   "outputs": [
    {
     "name": "stdout",
     "output_type": "stream",
     "text": [
      "<class 'pandas.core.frame.DataFrame'>\n",
      "DatetimeIndex: 2332 entries, 2012-11-01 to 2022-02-04\n",
      "Data columns (total 6 columns):\n",
      " #   Column     Non-Null Count  Dtype  \n",
      "---  ------     --------------  -----  \n",
      " 0   High       2332 non-null   float64\n",
      " 1   Low        2332 non-null   float64\n",
      " 2   Open       2332 non-null   float64\n",
      " 3   Close      2332 non-null   float64\n",
      " 4   Volume     2332 non-null   int64  \n",
      " 5   Adj Close  2332 non-null   float64\n",
      "dtypes: float64(5), int64(1)\n",
      "memory usage: 127.5 KB\n",
      "<class 'pandas.core.frame.DataFrame'>\n",
      "DatetimeIndex: 2332 entries, 2012-11-01 to 2022-02-04\n",
      "Data columns (total 6 columns):\n",
      " #   Column     Non-Null Count  Dtype  \n",
      "---  ------     --------------  -----  \n",
      " 0   High       2332 non-null   float64\n",
      " 1   Low        2332 non-null   float64\n",
      " 2   Open       2332 non-null   float64\n",
      " 3   Close      2332 non-null   float64\n",
      " 4   Volume     2332 non-null   float64\n",
      " 5   Adj Close  2332 non-null   float64\n",
      "dtypes: float64(6)\n",
      "memory usage: 127.5 KB\n",
      "None None\n"
     ]
    }
   ],
   "source": [
    "print(amzn.info(),goog.info())"
   ]
  },
  {
   "cell_type": "markdown",
   "id": "da5b0407",
   "metadata": {},
   "source": [
    "### 4. Filtering using .loc, iloc, index"
   ]
  },
  {
   "cell_type": "code",
   "execution_count": 7,
   "id": "b1edca60",
   "metadata": {},
   "outputs": [
    {
     "data": {
      "text/plain": [
       "Date\n",
       "2012-11-01     234.229996\n",
       "2012-11-02     234.009995\n",
       "2012-11-05     232.039993\n",
       "2012-11-06     235.410004\n",
       "2012-11-07     235.649994\n",
       "                 ...     \n",
       "2022-01-31    2895.000000\n",
       "2022-02-01    3000.000000\n",
       "2022-02-02    3101.010010\n",
       "2022-02-03    2834.750000\n",
       "2022-02-04    3112.129883\n",
       "Name: Open, Length: 2332, dtype: float64"
      ]
     },
     "execution_count": 7,
     "metadata": {},
     "output_type": "execute_result"
    }
   ],
   "source": [
    "amzn['Open']"
   ]
  },
  {
   "cell_type": "code",
   "execution_count": 8,
   "id": "3c2accc2",
   "metadata": {},
   "outputs": [
    {
     "data": {
      "text/plain": [
       "Date\n",
       "2012-11-01     234.229996\n",
       "2012-11-02     234.009995\n",
       "2012-11-05     232.039993\n",
       "2012-11-06     235.410004\n",
       "2012-11-07     235.649994\n",
       "                 ...     \n",
       "2022-01-31    2895.000000\n",
       "2022-02-01    3000.000000\n",
       "2022-02-02    3101.010010\n",
       "2022-02-03    2834.750000\n",
       "2022-02-04    3112.129883\n",
       "Name: Open, Length: 2332, dtype: float64"
      ]
     },
     "execution_count": 8,
     "metadata": {},
     "output_type": "execute_result"
    }
   ],
   "source": [
    "amzn.loc[:,'Open']"
   ]
  },
  {
   "cell_type": "code",
   "execution_count": 9,
   "id": "da0fa175",
   "metadata": {},
   "outputs": [
    {
     "data": {
      "text/plain": [
       "3361.800048828125"
      ]
     },
     "execution_count": 9,
     "metadata": {},
     "output_type": "execute_result"
    }
   ],
   "source": [
    "amzn.loc['20211101','Open']"
   ]
  },
  {
   "cell_type": "code",
   "execution_count": 10,
   "id": "ff1bd3bd",
   "metadata": {},
   "outputs": [
    {
     "data": {
      "text/plain": [
       "234.5500030517578"
      ]
     },
     "execution_count": 10,
     "metadata": {},
     "output_type": "execute_result"
    }
   ],
   "source": [
    "amzn.iloc[0,0] #1st row & 2nd column"
   ]
  },
  {
   "cell_type": "code",
   "execution_count": 11,
   "id": "16ac38fa",
   "metadata": {},
   "outputs": [
    {
     "data": {
      "text/html": [
       "<div>\n",
       "<style scoped>\n",
       "    .dataframe tbody tr th:only-of-type {\n",
       "        vertical-align: middle;\n",
       "    }\n",
       "\n",
       "    .dataframe tbody tr th {\n",
       "        vertical-align: top;\n",
       "    }\n",
       "\n",
       "    .dataframe thead th {\n",
       "        text-align: right;\n",
       "    }\n",
       "</style>\n",
       "<table border=\"1\" class=\"dataframe\">\n",
       "  <thead>\n",
       "    <tr style=\"text-align: right;\">\n",
       "      <th></th>\n",
       "      <th>High</th>\n",
       "      <th>Low</th>\n",
       "      <th>Open</th>\n",
       "      <th>Close</th>\n",
       "      <th>Volume</th>\n",
       "      <th>Adj Close</th>\n",
       "    </tr>\n",
       "    <tr>\n",
       "      <th>Date</th>\n",
       "      <th></th>\n",
       "      <th></th>\n",
       "      <th></th>\n",
       "      <th></th>\n",
       "      <th></th>\n",
       "      <th></th>\n",
       "    </tr>\n",
       "  </thead>\n",
       "  <tbody>\n",
       "    <tr>\n",
       "      <th>2020-11-02</th>\n",
       "      <td>3079.709961</td>\n",
       "      <td>2950.120117</td>\n",
       "      <td>3061.739990</td>\n",
       "      <td>3004.479980</td>\n",
       "      <td>7257400</td>\n",
       "      <td>3004.479980</td>\n",
       "    </tr>\n",
       "    <tr>\n",
       "      <th>2020-11-03</th>\n",
       "      <td>3074.899902</td>\n",
       "      <td>2980.979980</td>\n",
       "      <td>3018.530029</td>\n",
       "      <td>3048.409912</td>\n",
       "      <td>4897900</td>\n",
       "      <td>3048.409912</td>\n",
       "    </tr>\n",
       "    <tr>\n",
       "      <th>2020-11-04</th>\n",
       "      <td>3244.850098</td>\n",
       "      <td>3139.729980</td>\n",
       "      <td>3159.989990</td>\n",
       "      <td>3241.159912</td>\n",
       "      <td>6839000</td>\n",
       "      <td>3241.159912</td>\n",
       "    </tr>\n",
       "    <tr>\n",
       "      <th>2020-11-05</th>\n",
       "      <td>3366.800049</td>\n",
       "      <td>3288.879883</td>\n",
       "      <td>3319.969971</td>\n",
       "      <td>3322.000000</td>\n",
       "      <td>5789300</td>\n",
       "      <td>3322.000000</td>\n",
       "    </tr>\n",
       "    <tr>\n",
       "      <th>2020-11-06</th>\n",
       "      <td>3322.000000</td>\n",
       "      <td>3232.000000</td>\n",
       "      <td>3304.639893</td>\n",
       "      <td>3311.370117</td>\n",
       "      <td>4647300</td>\n",
       "      <td>3311.370117</td>\n",
       "    </tr>\n",
       "    <tr>\n",
       "      <th>...</th>\n",
       "      <td>...</td>\n",
       "      <td>...</td>\n",
       "      <td>...</td>\n",
       "      <td>...</td>\n",
       "      <td>...</td>\n",
       "      <td>...</td>\n",
       "    </tr>\n",
       "    <tr>\n",
       "      <th>2022-01-31</th>\n",
       "      <td>3007.209961</td>\n",
       "      <td>2886.010010</td>\n",
       "      <td>2895.000000</td>\n",
       "      <td>2991.469971</td>\n",
       "      <td>3915400</td>\n",
       "      <td>2991.469971</td>\n",
       "    </tr>\n",
       "    <tr>\n",
       "      <th>2022-02-01</th>\n",
       "      <td>3034.159912</td>\n",
       "      <td>2952.550049</td>\n",
       "      <td>3000.000000</td>\n",
       "      <td>3023.870117</td>\n",
       "      <td>2961000</td>\n",
       "      <td>3023.870117</td>\n",
       "    </tr>\n",
       "    <tr>\n",
       "      <th>2022-02-02</th>\n",
       "      <td>3101.500000</td>\n",
       "      <td>2977.270020</td>\n",
       "      <td>3101.010010</td>\n",
       "      <td>3012.250000</td>\n",
       "      <td>4366500</td>\n",
       "      <td>3012.250000</td>\n",
       "    </tr>\n",
       "    <tr>\n",
       "      <th>2022-02-03</th>\n",
       "      <td>2884.949951</td>\n",
       "      <td>2766.659912</td>\n",
       "      <td>2834.750000</td>\n",
       "      <td>2776.909912</td>\n",
       "      <td>11276600</td>\n",
       "      <td>2776.909912</td>\n",
       "    </tr>\n",
       "    <tr>\n",
       "      <th>2022-02-04</th>\n",
       "      <td>3224.000000</td>\n",
       "      <td>3012.159912</td>\n",
       "      <td>3112.129883</td>\n",
       "      <td>3152.790039</td>\n",
       "      <td>12640500</td>\n",
       "      <td>3152.790039</td>\n",
       "    </tr>\n",
       "  </tbody>\n",
       "</table>\n",
       "<p>318 rows × 6 columns</p>\n",
       "</div>"
      ],
      "text/plain": [
       "                   High          Low         Open        Close    Volume  \\\n",
       "Date                                                                       \n",
       "2020-11-02  3079.709961  2950.120117  3061.739990  3004.479980   7257400   \n",
       "2020-11-03  3074.899902  2980.979980  3018.530029  3048.409912   4897900   \n",
       "2020-11-04  3244.850098  3139.729980  3159.989990  3241.159912   6839000   \n",
       "2020-11-05  3366.800049  3288.879883  3319.969971  3322.000000   5789300   \n",
       "2020-11-06  3322.000000  3232.000000  3304.639893  3311.370117   4647300   \n",
       "...                 ...          ...          ...          ...       ...   \n",
       "2022-01-31  3007.209961  2886.010010  2895.000000  2991.469971   3915400   \n",
       "2022-02-01  3034.159912  2952.550049  3000.000000  3023.870117   2961000   \n",
       "2022-02-02  3101.500000  2977.270020  3101.010010  3012.250000   4366500   \n",
       "2022-02-03  2884.949951  2766.659912  2834.750000  2776.909912  11276600   \n",
       "2022-02-04  3224.000000  3012.159912  3112.129883  3152.790039  12640500   \n",
       "\n",
       "              Adj Close  \n",
       "Date                     \n",
       "2020-11-02  3004.479980  \n",
       "2020-11-03  3048.409912  \n",
       "2020-11-04  3241.159912  \n",
       "2020-11-05  3322.000000  \n",
       "2020-11-06  3311.370117  \n",
       "...                 ...  \n",
       "2022-01-31  2991.469971  \n",
       "2022-02-01  3023.870117  \n",
       "2022-02-02  3012.250000  \n",
       "2022-02-03  2776.909912  \n",
       "2022-02-04  3152.790039  \n",
       "\n",
       "[318 rows x 6 columns]"
      ]
     },
     "execution_count": 11,
     "metadata": {},
     "output_type": "execute_result"
    }
   ],
   "source": [
    "amzn[amzn.index>'20201101']"
   ]
  },
  {
   "cell_type": "markdown",
   "id": "11a141b9",
   "metadata": {},
   "source": [
    "### 5. Filtering with Criteria"
   ]
  },
  {
   "cell_type": "code",
   "execution_count": 12,
   "id": "0caea476",
   "metadata": {},
   "outputs": [
    {
     "name": "stdout",
     "output_type": "stream",
     "text": [
      "Mean:4024407.89022 Std:2149414.77514\n"
     ]
    }
   ],
   "source": [
    "print('Mean:%.5f Std:%.5f'% (amzn['Volume'].mean(),amzn['Volume'].std()))"
   ]
  },
  {
   "cell_type": "code",
   "execution_count": 13,
   "id": "1a6e1c3f",
   "metadata": {},
   "outputs": [],
   "source": [
    "high=amzn['Volume'].mean() + 2*amzn['Volume'].std()"
   ]
  },
  {
   "cell_type": "code",
   "execution_count": 14,
   "id": "9a238753",
   "metadata": {},
   "outputs": [
    {
     "data": {
      "text/html": [
       "<div>\n",
       "<style scoped>\n",
       "    .dataframe tbody tr th:only-of-type {\n",
       "        vertical-align: middle;\n",
       "    }\n",
       "\n",
       "    .dataframe tbody tr th {\n",
       "        vertical-align: top;\n",
       "    }\n",
       "\n",
       "    .dataframe thead th {\n",
       "        text-align: right;\n",
       "    }\n",
       "</style>\n",
       "<table border=\"1\" class=\"dataframe\">\n",
       "  <thead>\n",
       "    <tr style=\"text-align: right;\">\n",
       "      <th></th>\n",
       "      <th>High</th>\n",
       "      <th>Low</th>\n",
       "      <th>Open</th>\n",
       "      <th>Close</th>\n",
       "      <th>Volume</th>\n",
       "      <th>Adj Close</th>\n",
       "    </tr>\n",
       "    <tr>\n",
       "      <th>Date</th>\n",
       "      <th></th>\n",
       "      <th></th>\n",
       "      <th></th>\n",
       "      <th></th>\n",
       "      <th></th>\n",
       "      <th></th>\n",
       "    </tr>\n",
       "  </thead>\n",
       "  <tbody>\n",
       "    <tr>\n",
       "      <th>2013-01-29</th>\n",
       "      <td>275.459991</td>\n",
       "      <td>258.350006</td>\n",
       "      <td>275.350006</td>\n",
       "      <td>260.350006</td>\n",
       "      <td>10172600</td>\n",
       "      <td>260.350006</td>\n",
       "    </tr>\n",
       "    <tr>\n",
       "      <th>2013-01-30</th>\n",
       "      <td>284.200012</td>\n",
       "      <td>267.109985</td>\n",
       "      <td>283.000000</td>\n",
       "      <td>272.760010</td>\n",
       "      <td>13075400</td>\n",
       "      <td>272.760010</td>\n",
       "    </tr>\n",
       "    <tr>\n",
       "      <th>2013-04-26</th>\n",
       "      <td>272.019989</td>\n",
       "      <td>252.809998</td>\n",
       "      <td>269.970001</td>\n",
       "      <td>254.809998</td>\n",
       "      <td>14030000</td>\n",
       "      <td>254.809998</td>\n",
       "    </tr>\n",
       "    <tr>\n",
       "      <th>2013-07-26</th>\n",
       "      <td>313.619995</td>\n",
       "      <td>295.549988</td>\n",
       "      <td>299.549988</td>\n",
       "      <td>312.010010</td>\n",
       "      <td>8817500</td>\n",
       "      <td>312.010010</td>\n",
       "    </tr>\n",
       "    <tr>\n",
       "      <th>2013-10-25</th>\n",
       "      <td>368.399994</td>\n",
       "      <td>352.619995</td>\n",
       "      <td>358.600006</td>\n",
       "      <td>363.390015</td>\n",
       "      <td>12036800</td>\n",
       "      <td>363.390015</td>\n",
       "    </tr>\n",
       "    <tr>\n",
       "      <th>...</th>\n",
       "      <td>...</td>\n",
       "      <td>...</td>\n",
       "      <td>...</td>\n",
       "      <td>...</td>\n",
       "      <td>...</td>\n",
       "      <td>...</td>\n",
       "    </tr>\n",
       "    <tr>\n",
       "      <th>2020-10-12</th>\n",
       "      <td>3496.239990</td>\n",
       "      <td>3339.550049</td>\n",
       "      <td>3349.939941</td>\n",
       "      <td>3442.929932</td>\n",
       "      <td>8364200</td>\n",
       "      <td>3442.929932</td>\n",
       "    </tr>\n",
       "    <tr>\n",
       "      <th>2020-10-30</th>\n",
       "      <td>3167.000000</td>\n",
       "      <td>3019.000000</td>\n",
       "      <td>3157.750000</td>\n",
       "      <td>3036.149902</td>\n",
       "      <td>8386400</td>\n",
       "      <td>3036.149902</td>\n",
       "    </tr>\n",
       "    <tr>\n",
       "      <th>2021-07-30</th>\n",
       "      <td>3368.139893</td>\n",
       "      <td>3306.979980</td>\n",
       "      <td>3347.949951</td>\n",
       "      <td>3327.590088</td>\n",
       "      <td>9957100</td>\n",
       "      <td>3327.590088</td>\n",
       "    </tr>\n",
       "    <tr>\n",
       "      <th>2022-02-03</th>\n",
       "      <td>2884.949951</td>\n",
       "      <td>2766.659912</td>\n",
       "      <td>2834.750000</td>\n",
       "      <td>2776.909912</td>\n",
       "      <td>11276600</td>\n",
       "      <td>2776.909912</td>\n",
       "    </tr>\n",
       "    <tr>\n",
       "      <th>2022-02-04</th>\n",
       "      <td>3224.000000</td>\n",
       "      <td>3012.159912</td>\n",
       "      <td>3112.129883</td>\n",
       "      <td>3152.790039</td>\n",
       "      <td>12640500</td>\n",
       "      <td>3152.790039</td>\n",
       "    </tr>\n",
       "  </tbody>\n",
       "</table>\n",
       "<p>102 rows × 6 columns</p>\n",
       "</div>"
      ],
      "text/plain": [
       "                   High          Low         Open        Close    Volume  \\\n",
       "Date                                                                       \n",
       "2013-01-29   275.459991   258.350006   275.350006   260.350006  10172600   \n",
       "2013-01-30   284.200012   267.109985   283.000000   272.760010  13075400   \n",
       "2013-04-26   272.019989   252.809998   269.970001   254.809998  14030000   \n",
       "2013-07-26   313.619995   295.549988   299.549988   312.010010   8817500   \n",
       "2013-10-25   368.399994   352.619995   358.600006   363.390015  12036800   \n",
       "...                 ...          ...          ...          ...       ...   \n",
       "2020-10-12  3496.239990  3339.550049  3349.939941  3442.929932   8364200   \n",
       "2020-10-30  3167.000000  3019.000000  3157.750000  3036.149902   8386400   \n",
       "2021-07-30  3368.139893  3306.979980  3347.949951  3327.590088   9957100   \n",
       "2022-02-03  2884.949951  2766.659912  2834.750000  2776.909912  11276600   \n",
       "2022-02-04  3224.000000  3012.159912  3112.129883  3152.790039  12640500   \n",
       "\n",
       "              Adj Close  \n",
       "Date                     \n",
       "2013-01-29   260.350006  \n",
       "2013-01-30   272.760010  \n",
       "2013-04-26   254.809998  \n",
       "2013-07-26   312.010010  \n",
       "2013-10-25   363.390015  \n",
       "...                 ...  \n",
       "2020-10-12  3442.929932  \n",
       "2020-10-30  3036.149902  \n",
       "2021-07-30  3327.590088  \n",
       "2022-02-03  2776.909912  \n",
       "2022-02-04  3152.790039  \n",
       "\n",
       "[102 rows x 6 columns]"
      ]
     },
     "execution_count": 14,
     "metadata": {},
     "output_type": "execute_result"
    }
   ],
   "source": [
    "amzn[amzn.Volume > high]"
   ]
  },
  {
   "cell_type": "code",
   "execution_count": 15,
   "id": "597624f1",
   "metadata": {},
   "outputs": [
    {
     "data": {
      "text/plain": [
       "0.04373927958833619"
      ]
     },
     "execution_count": 15,
     "metadata": {},
     "output_type": "execute_result"
    }
   ],
   "source": [
    "len(amzn[amzn.Volume > high])/len(amzn)"
   ]
  },
  {
   "cell_type": "markdown",
   "id": "869cc1b3",
   "metadata": {},
   "source": [
    "### 6. Adding Columns"
   ]
  },
  {
   "cell_type": "code",
   "execution_count": 16,
   "id": "7afc5c42",
   "metadata": {},
   "outputs": [],
   "source": [
    "amzn['pct_chng']= amzn.Close.pct_change()"
   ]
  },
  {
   "cell_type": "code",
   "execution_count": 17,
   "id": "91c75465",
   "metadata": {},
   "outputs": [
    {
     "data": {
      "text/html": [
       "<div>\n",
       "<style scoped>\n",
       "    .dataframe tbody tr th:only-of-type {\n",
       "        vertical-align: middle;\n",
       "    }\n",
       "\n",
       "    .dataframe tbody tr th {\n",
       "        vertical-align: top;\n",
       "    }\n",
       "\n",
       "    .dataframe thead th {\n",
       "        text-align: right;\n",
       "    }\n",
       "</style>\n",
       "<table border=\"1\" class=\"dataframe\">\n",
       "  <thead>\n",
       "    <tr style=\"text-align: right;\">\n",
       "      <th></th>\n",
       "      <th>High</th>\n",
       "      <th>Low</th>\n",
       "      <th>Open</th>\n",
       "      <th>Close</th>\n",
       "      <th>Volume</th>\n",
       "      <th>Adj Close</th>\n",
       "      <th>pct_chng</th>\n",
       "    </tr>\n",
       "    <tr>\n",
       "      <th>Date</th>\n",
       "      <th></th>\n",
       "      <th></th>\n",
       "      <th></th>\n",
       "      <th></th>\n",
       "      <th></th>\n",
       "      <th></th>\n",
       "      <th></th>\n",
       "    </tr>\n",
       "  </thead>\n",
       "  <tbody>\n",
       "    <tr>\n",
       "      <th>2022-01-31</th>\n",
       "      <td>3007.209961</td>\n",
       "      <td>2886.010010</td>\n",
       "      <td>2895.000000</td>\n",
       "      <td>2991.469971</td>\n",
       "      <td>3915400</td>\n",
       "      <td>2991.469971</td>\n",
       "      <td>0.038864</td>\n",
       "    </tr>\n",
       "    <tr>\n",
       "      <th>2022-02-01</th>\n",
       "      <td>3034.159912</td>\n",
       "      <td>2952.550049</td>\n",
       "      <td>3000.000000</td>\n",
       "      <td>3023.870117</td>\n",
       "      <td>2961000</td>\n",
       "      <td>3023.870117</td>\n",
       "      <td>0.010831</td>\n",
       "    </tr>\n",
       "    <tr>\n",
       "      <th>2022-02-02</th>\n",
       "      <td>3101.500000</td>\n",
       "      <td>2977.270020</td>\n",
       "      <td>3101.010010</td>\n",
       "      <td>3012.250000</td>\n",
       "      <td>4366500</td>\n",
       "      <td>3012.250000</td>\n",
       "      <td>-0.003843</td>\n",
       "    </tr>\n",
       "    <tr>\n",
       "      <th>2022-02-03</th>\n",
       "      <td>2884.949951</td>\n",
       "      <td>2766.659912</td>\n",
       "      <td>2834.750000</td>\n",
       "      <td>2776.909912</td>\n",
       "      <td>11276600</td>\n",
       "      <td>2776.909912</td>\n",
       "      <td>-0.078128</td>\n",
       "    </tr>\n",
       "    <tr>\n",
       "      <th>2022-02-04</th>\n",
       "      <td>3224.000000</td>\n",
       "      <td>3012.159912</td>\n",
       "      <td>3112.129883</td>\n",
       "      <td>3152.790039</td>\n",
       "      <td>12640500</td>\n",
       "      <td>3152.790039</td>\n",
       "      <td>0.135359</td>\n",
       "    </tr>\n",
       "  </tbody>\n",
       "</table>\n",
       "</div>"
      ],
      "text/plain": [
       "                   High          Low         Open        Close    Volume  \\\n",
       "Date                                                                       \n",
       "2022-01-31  3007.209961  2886.010010  2895.000000  2991.469971   3915400   \n",
       "2022-02-01  3034.159912  2952.550049  3000.000000  3023.870117   2961000   \n",
       "2022-02-02  3101.500000  2977.270020  3101.010010  3012.250000   4366500   \n",
       "2022-02-03  2884.949951  2766.659912  2834.750000  2776.909912  11276600   \n",
       "2022-02-04  3224.000000  3012.159912  3112.129883  3152.790039  12640500   \n",
       "\n",
       "              Adj Close  pct_chng  \n",
       "Date                               \n",
       "2022-01-31  2991.469971  0.038864  \n",
       "2022-02-01  3023.870117  0.010831  \n",
       "2022-02-02  3012.250000 -0.003843  \n",
       "2022-02-03  2776.909912 -0.078128  \n",
       "2022-02-04  3152.790039  0.135359  "
      ]
     },
     "execution_count": 17,
     "metadata": {},
     "output_type": "execute_result"
    }
   ],
   "source": [
    "amzn.tail()"
   ]
  },
  {
   "cell_type": "markdown",
   "id": "5c3308b7",
   "metadata": {},
   "source": [
    "### 7. Appending data"
   ]
  },
  {
   "cell_type": "code",
   "execution_count": 18,
   "id": "66cc4727",
   "metadata": {},
   "outputs": [],
   "source": [
    "goog_11 = goog.loc['2017-11']\n",
    "amzn_11 = amzn.loc['2017-11']"
   ]
  },
  {
   "cell_type": "code",
   "execution_count": 19,
   "id": "60e20dd5",
   "metadata": {},
   "outputs": [
    {
     "data": {
      "text/html": [
       "<div>\n",
       "<style scoped>\n",
       "    .dataframe tbody tr th:only-of-type {\n",
       "        vertical-align: middle;\n",
       "    }\n",
       "\n",
       "    .dataframe tbody tr th {\n",
       "        vertical-align: top;\n",
       "    }\n",
       "\n",
       "    .dataframe thead th {\n",
       "        text-align: right;\n",
       "    }\n",
       "</style>\n",
       "<table border=\"1\" class=\"dataframe\">\n",
       "  <thead>\n",
       "    <tr style=\"text-align: right;\">\n",
       "      <th></th>\n",
       "      <th>High</th>\n",
       "      <th>Low</th>\n",
       "      <th>Open</th>\n",
       "      <th>Close</th>\n",
       "      <th>Volume</th>\n",
       "      <th>Adj Close</th>\n",
       "      <th>pct_chng</th>\n",
       "    </tr>\n",
       "    <tr>\n",
       "      <th>Date</th>\n",
       "      <th></th>\n",
       "      <th></th>\n",
       "      <th></th>\n",
       "      <th></th>\n",
       "      <th></th>\n",
       "      <th></th>\n",
       "      <th></th>\n",
       "    </tr>\n",
       "  </thead>\n",
       "  <tbody>\n",
       "    <tr>\n",
       "      <th>2017-11-01</th>\n",
       "      <td>1029.670044</td>\n",
       "      <td>1016.950012</td>\n",
       "      <td>1017.210022</td>\n",
       "      <td>1025.500000</td>\n",
       "      <td>1373400.0</td>\n",
       "      <td>1025.500000</td>\n",
       "      <td>NaN</td>\n",
       "    </tr>\n",
       "    <tr>\n",
       "      <th>2017-11-02</th>\n",
       "      <td>1028.089966</td>\n",
       "      <td>1013.010010</td>\n",
       "      <td>1021.760010</td>\n",
       "      <td>1025.579956</td>\n",
       "      <td>1049000.0</td>\n",
       "      <td>1025.579956</td>\n",
       "      <td>NaN</td>\n",
       "    </tr>\n",
       "    <tr>\n",
       "      <th>2017-11-03</th>\n",
       "      <td>1032.650024</td>\n",
       "      <td>1020.309998</td>\n",
       "      <td>1022.109985</td>\n",
       "      <td>1032.479980</td>\n",
       "      <td>1076400.0</td>\n",
       "      <td>1032.479980</td>\n",
       "      <td>NaN</td>\n",
       "    </tr>\n",
       "    <tr>\n",
       "      <th>2017-11-06</th>\n",
       "      <td>1034.869995</td>\n",
       "      <td>1025.000000</td>\n",
       "      <td>1028.989990</td>\n",
       "      <td>1025.900024</td>\n",
       "      <td>1125200.0</td>\n",
       "      <td>1025.900024</td>\n",
       "      <td>NaN</td>\n",
       "    </tr>\n",
       "    <tr>\n",
       "      <th>2017-11-07</th>\n",
       "      <td>1033.969971</td>\n",
       "      <td>1025.130005</td>\n",
       "      <td>1027.270020</td>\n",
       "      <td>1033.329956</td>\n",
       "      <td>1112300.0</td>\n",
       "      <td>1033.329956</td>\n",
       "      <td>NaN</td>\n",
       "    </tr>\n",
       "  </tbody>\n",
       "</table>\n",
       "</div>"
      ],
      "text/plain": [
       "                   High          Low         Open        Close     Volume  \\\n",
       "Date                                                                        \n",
       "2017-11-01  1029.670044  1016.950012  1017.210022  1025.500000  1373400.0   \n",
       "2017-11-02  1028.089966  1013.010010  1021.760010  1025.579956  1049000.0   \n",
       "2017-11-03  1032.650024  1020.309998  1022.109985  1032.479980  1076400.0   \n",
       "2017-11-06  1034.869995  1025.000000  1028.989990  1025.900024  1125200.0   \n",
       "2017-11-07  1033.969971  1025.130005  1027.270020  1033.329956  1112300.0   \n",
       "\n",
       "              Adj Close  pct_chng  \n",
       "Date                               \n",
       "2017-11-01  1025.500000       NaN  \n",
       "2017-11-02  1025.579956       NaN  \n",
       "2017-11-03  1032.479980       NaN  \n",
       "2017-11-06  1025.900024       NaN  \n",
       "2017-11-07  1033.329956       NaN  "
      ]
     },
     "execution_count": 19,
     "metadata": {},
     "output_type": "execute_result"
    }
   ],
   "source": [
    "goog_11.append(amzn_11).head()"
   ]
  },
  {
   "cell_type": "code",
   "execution_count": 20,
   "id": "81cc1b81",
   "metadata": {},
   "outputs": [
    {
     "name": "stdout",
     "output_type": "stream",
     "text": [
      "<class 'pandas.core.frame.DataFrame'>\n",
      "DatetimeIndex: 42 entries, 2017-11-01 to 2017-11-30\n",
      "Data columns (total 7 columns):\n",
      " #   Column     Non-Null Count  Dtype  \n",
      "---  ------     --------------  -----  \n",
      " 0   High       42 non-null     float64\n",
      " 1   Low        42 non-null     float64\n",
      " 2   Open       42 non-null     float64\n",
      " 3   Close      42 non-null     float64\n",
      " 4   Volume     42 non-null     float64\n",
      " 5   Adj Close  42 non-null     float64\n",
      " 6   pct_chng   21 non-null     float64\n",
      "dtypes: float64(7)\n",
      "memory usage: 2.6 KB\n"
     ]
    }
   ],
   "source": [
    "goog_11.append(amzn_11).info()"
   ]
  },
  {
   "cell_type": "markdown",
   "id": "980e95dd",
   "metadata": {},
   "source": [
    "### 8. Merging Columns from Different DataFrames"
   ]
  },
  {
   "cell_type": "code",
   "execution_count": 21,
   "id": "20fc7df7",
   "metadata": {},
   "outputs": [
    {
     "data": {
      "text/html": [
       "<div>\n",
       "<style scoped>\n",
       "    .dataframe tbody tr th:only-of-type {\n",
       "        vertical-align: middle;\n",
       "    }\n",
       "\n",
       "    .dataframe tbody tr th {\n",
       "        vertical-align: top;\n",
       "    }\n",
       "\n",
       "    .dataframe thead th {\n",
       "        text-align: right;\n",
       "    }\n",
       "</style>\n",
       "<table border=\"1\" class=\"dataframe\">\n",
       "  <thead>\n",
       "    <tr style=\"text-align: right;\">\n",
       "      <th></th>\n",
       "      <th>AMZN_Close</th>\n",
       "      <th>GOOG_Close</th>\n",
       "    </tr>\n",
       "    <tr>\n",
       "      <th>Date</th>\n",
       "      <th></th>\n",
       "      <th></th>\n",
       "    </tr>\n",
       "  </thead>\n",
       "  <tbody>\n",
       "    <tr>\n",
       "      <th>2012-11-01</th>\n",
       "      <td>232.139999</td>\n",
       "      <td>342.511169</td>\n",
       "    </tr>\n",
       "    <tr>\n",
       "      <th>2012-11-02</th>\n",
       "      <td>232.419998</td>\n",
       "      <td>342.675568</td>\n",
       "    </tr>\n",
       "    <tr>\n",
       "      <th>2012-11-05</th>\n",
       "      <td>234.330002</td>\n",
       "      <td>340.204834</td>\n",
       "    </tr>\n",
       "    <tr>\n",
       "      <th>2012-11-06</th>\n",
       "      <td>237.559998</td>\n",
       "      <td>339.587158</td>\n",
       "    </tr>\n",
       "    <tr>\n",
       "      <th>2012-11-07</th>\n",
       "      <td>232.059998</td>\n",
       "      <td>332.314392</td>\n",
       "    </tr>\n",
       "  </tbody>\n",
       "</table>\n",
       "</div>"
      ],
      "text/plain": [
       "            AMZN_Close  GOOG_Close\n",
       "Date                              \n",
       "2012-11-01  232.139999  342.511169\n",
       "2012-11-02  232.419998  342.675568\n",
       "2012-11-05  234.330002  340.204834\n",
       "2012-11-06  237.559998  339.587158\n",
       "2012-11-07  232.059998  332.314392"
      ]
     },
     "execution_count": 21,
     "metadata": {},
     "output_type": "execute_result"
    }
   ],
   "source": [
    "close = pd.DataFrame({'AMZN_Close':amzn.Close, 'GOOG_Close':goog.Close})\n",
    "close.head()"
   ]
  },
  {
   "cell_type": "markdown",
   "id": "4fec66df",
   "metadata": {},
   "source": [
    "### 9. Grouping and Sorting Data"
   ]
  },
  {
   "cell_type": "code",
   "execution_count": 22,
   "id": "05c945d3",
   "metadata": {},
   "outputs": [
    {
     "data": {
      "text/html": [
       "<div>\n",
       "<style scoped>\n",
       "    .dataframe tbody tr th:only-of-type {\n",
       "        vertical-align: middle;\n",
       "    }\n",
       "\n",
       "    .dataframe tbody tr th {\n",
       "        vertical-align: top;\n",
       "    }\n",
       "\n",
       "    .dataframe thead th {\n",
       "        text-align: right;\n",
       "    }\n",
       "</style>\n",
       "<table border=\"1\" class=\"dataframe\">\n",
       "  <thead>\n",
       "    <tr style=\"text-align: right;\">\n",
       "      <th></th>\n",
       "      <th>High</th>\n",
       "      <th>Low</th>\n",
       "      <th>Close</th>\n",
       "      <th>Volume</th>\n",
       "      <th>Adj Close</th>\n",
       "    </tr>\n",
       "    <tr>\n",
       "      <th>Open</th>\n",
       "      <th></th>\n",
       "      <th></th>\n",
       "      <th></th>\n",
       "      <th></th>\n",
       "      <th></th>\n",
       "    </tr>\n",
       "  </thead>\n",
       "  <tbody>\n",
       "    <tr>\n",
       "      <th>321.788849</th>\n",
       "      <td>325.290741</td>\n",
       "      <td>316.812500</td>\n",
       "      <td>322.381622</td>\n",
       "      <td>6902174.0</td>\n",
       "      <td>322.381622</td>\n",
       "    </tr>\n",
       "    <tr>\n",
       "      <th>323.786377</th>\n",
       "      <td>328.767700</td>\n",
       "      <td>320.747772</td>\n",
       "      <td>322.421478</td>\n",
       "      <td>3711660.0</td>\n",
       "      <td>322.421478</td>\n",
       "    </tr>\n",
       "    <tr>\n",
       "      <th>326.102692</th>\n",
       "      <td>332.922119</td>\n",
       "      <td>323.935822</td>\n",
       "      <td>330.277039</td>\n",
       "      <td>6251545.0</td>\n",
       "      <td>330.277039</td>\n",
       "    </tr>\n",
       "    <tr>\n",
       "      <th>326.625732</th>\n",
       "      <td>333.211029</td>\n",
       "      <td>326.541046</td>\n",
       "      <td>332.857361</td>\n",
       "      <td>4754153.0</td>\n",
       "      <td>332.857361</td>\n",
       "    </tr>\n",
       "    <tr>\n",
       "      <th>328.852386</th>\n",
       "      <td>336.239685</td>\n",
       "      <td>327.771423</td>\n",
       "      <td>334.102692</td>\n",
       "      <td>5036206.0</td>\n",
       "      <td>334.102692</td>\n",
       "    </tr>\n",
       "    <tr>\n",
       "      <th>...</th>\n",
       "      <td>...</td>\n",
       "      <td>...</td>\n",
       "      <td>...</td>\n",
       "      <td>...</td>\n",
       "      <td>...</td>\n",
       "    </tr>\n",
       "    <tr>\n",
       "      <th>2994.919922</th>\n",
       "      <td>3007.570068</td>\n",
       "      <td>2950.139893</td>\n",
       "      <td>2984.969971</td>\n",
       "      <td>843800.0</td>\n",
       "      <td>2984.969971</td>\n",
       "    </tr>\n",
       "    <tr>\n",
       "      <th>3000.000000</th>\n",
       "      <td>6030.229980</td>\n",
       "      <td>5955.449951</td>\n",
       "      <td>5974.790039</td>\n",
       "      <td>1731800.0</td>\n",
       "      <td>5974.790039</td>\n",
       "    </tr>\n",
       "    <tr>\n",
       "      <th>3002.834961</th>\n",
       "      <td>3014.889893</td>\n",
       "      <td>2940.110107</td>\n",
       "      <td>2941.570068</td>\n",
       "      <td>1230400.0</td>\n",
       "      <td>2941.570068</td>\n",
       "    </tr>\n",
       "    <tr>\n",
       "      <th>3020.000000</th>\n",
       "      <td>3037.000000</td>\n",
       "      <td>2997.750000</td>\n",
       "      <td>2999.050049</td>\n",
       "      <td>988300.0</td>\n",
       "      <td>2999.050049</td>\n",
       "    </tr>\n",
       "    <tr>\n",
       "      <th>3037.270020</th>\n",
       "      <td>3042.000000</td>\n",
       "      <td>2911.149902</td>\n",
       "      <td>2960.729980</td>\n",
       "      <td>4487500.0</td>\n",
       "      <td>2960.729980</td>\n",
       "    </tr>\n",
       "  </tbody>\n",
       "</table>\n",
       "<p>2276 rows × 5 columns</p>\n",
       "</div>"
      ],
      "text/plain": [
       "                    High          Low        Close     Volume    Adj Close\n",
       "Open                                                                      \n",
       "321.788849    325.290741   316.812500   322.381622  6902174.0   322.381622\n",
       "323.786377    328.767700   320.747772   322.421478  3711660.0   322.421478\n",
       "326.102692    332.922119   323.935822   330.277039  6251545.0   330.277039\n",
       "326.625732    333.211029   326.541046   332.857361  4754153.0   332.857361\n",
       "328.852386    336.239685   327.771423   334.102692  5036206.0   334.102692\n",
       "...                  ...          ...          ...        ...          ...\n",
       "2994.919922  3007.570068  2950.139893  2984.969971   843800.0  2984.969971\n",
       "3000.000000  6030.229980  5955.449951  5974.790039  1731800.0  5974.790039\n",
       "3002.834961  3014.889893  2940.110107  2941.570068  1230400.0  2941.570068\n",
       "3020.000000  3037.000000  2997.750000  2999.050049   988300.0  2999.050049\n",
       "3037.270020  3042.000000  2911.149902  2960.729980  4487500.0  2960.729980\n",
       "\n",
       "[2276 rows x 5 columns]"
      ]
     },
     "execution_count": 22,
     "metadata": {},
     "output_type": "execute_result"
    }
   ],
   "source": [
    "goog.groupby(['Open']).sum() # Have to give a list"
   ]
  },
  {
   "cell_type": "code",
   "execution_count": 23,
   "id": "3f5a4d4c",
   "metadata": {},
   "outputs": [
    {
     "data": {
      "text/html": [
       "<div>\n",
       "<style scoped>\n",
       "    .dataframe tbody tr th:only-of-type {\n",
       "        vertical-align: middle;\n",
       "    }\n",
       "\n",
       "    .dataframe tbody tr th {\n",
       "        vertical-align: top;\n",
       "    }\n",
       "\n",
       "    .dataframe thead th {\n",
       "        text-align: right;\n",
       "    }\n",
       "</style>\n",
       "<table border=\"1\" class=\"dataframe\">\n",
       "  <thead>\n",
       "    <tr style=\"text-align: right;\">\n",
       "      <th></th>\n",
       "      <th>High</th>\n",
       "      <th>Low</th>\n",
       "      <th>Close</th>\n",
       "      <th>Volume</th>\n",
       "      <th>Adj Close</th>\n",
       "      <th>pct_chng</th>\n",
       "    </tr>\n",
       "    <tr>\n",
       "      <th>Open</th>\n",
       "      <th></th>\n",
       "      <th></th>\n",
       "      <th></th>\n",
       "      <th></th>\n",
       "      <th></th>\n",
       "      <th></th>\n",
       "    </tr>\n",
       "  </thead>\n",
       "  <tbody>\n",
       "    <tr>\n",
       "      <th>221.309998</th>\n",
       "      <td>226.250000</td>\n",
       "      <td>218.639999</td>\n",
       "      <td>225.229996</td>\n",
       "      <td>4352800</td>\n",
       "      <td>225.229996</td>\n",
       "      <td>0.020988</td>\n",
       "    </tr>\n",
       "    <tr>\n",
       "      <th>222.300003</th>\n",
       "      <td>225.160004</td>\n",
       "      <td>218.179993</td>\n",
       "      <td>220.600006</td>\n",
       "      <td>3404700</td>\n",
       "      <td>220.600006</td>\n",
       "      <td>-0.010540</td>\n",
       "    </tr>\n",
       "    <tr>\n",
       "      <th>225.119995</th>\n",
       "      <td>227.899994</td>\n",
       "      <td>224.710007</td>\n",
       "      <td>226.600006</td>\n",
       "      <td>2629800</td>\n",
       "      <td>226.600006</td>\n",
       "      <td>0.000574</td>\n",
       "    </tr>\n",
       "    <tr>\n",
       "      <th>226.259995</th>\n",
       "      <td>230.970001</td>\n",
       "      <td>224.600006</td>\n",
       "      <td>226.309998</td>\n",
       "      <td>3092500</td>\n",
       "      <td>226.309998</td>\n",
       "      <td>-0.004574</td>\n",
       "    </tr>\n",
       "    <tr>\n",
       "      <th>226.500000</th>\n",
       "      <td>227.410004</td>\n",
       "      <td>222.509995</td>\n",
       "      <td>222.949997</td>\n",
       "      <td>3034100</td>\n",
       "      <td>222.949997</td>\n",
       "      <td>-0.016108</td>\n",
       "    </tr>\n",
       "    <tr>\n",
       "      <th>...</th>\n",
       "      <td>...</td>\n",
       "      <td>...</td>\n",
       "      <td>...</td>\n",
       "      <td>...</td>\n",
       "      <td>...</td>\n",
       "      <td>...</td>\n",
       "    </tr>\n",
       "    <tr>\n",
       "      <th>3708.850098</th>\n",
       "      <td>3717.659912</td>\n",
       "      <td>3660.830078</td>\n",
       "      <td>3681.679932</td>\n",
       "      <td>3296600</td>\n",
       "      <td>3681.679932</td>\n",
       "      <td>0.001175</td>\n",
       "    </tr>\n",
       "    <tr>\n",
       "      <th>3712.689941</th>\n",
       "      <td>3762.149902</td>\n",
       "      <td>3675.719971</td>\n",
       "      <td>3676.570068</td>\n",
       "      <td>4936700</td>\n",
       "      <td>3676.570068</td>\n",
       "      <td>-0.005273</td>\n",
       "    </tr>\n",
       "    <tr>\n",
       "      <th>3717.379883</th>\n",
       "      <td>3734.199951</td>\n",
       "      <td>3678.909912</td>\n",
       "      <td>3696.580078</td>\n",
       "      <td>5328100</td>\n",
       "      <td>3696.580078</td>\n",
       "      <td>0.005670</td>\n",
       "    </tr>\n",
       "    <tr>\n",
       "      <th>3722.520020</th>\n",
       "      <td>3748.000000</td>\n",
       "      <td>3693.399902</td>\n",
       "      <td>3719.340088</td>\n",
       "      <td>3748200</td>\n",
       "      <td>3719.340088</td>\n",
       "      <td>-0.003235</td>\n",
       "    </tr>\n",
       "    <tr>\n",
       "      <th>3744.000000</th>\n",
       "      <td>3757.290039</td>\n",
       "      <td>3696.790039</td>\n",
       "      <td>3718.550049</td>\n",
       "      <td>2571600</td>\n",
       "      <td>3718.550049</td>\n",
       "      <td>-0.000212</td>\n",
       "    </tr>\n",
       "  </tbody>\n",
       "</table>\n",
       "<p>2255 rows × 6 columns</p>\n",
       "</div>"
      ],
      "text/plain": [
       "                    High          Low        Close   Volume    Adj Close  \\\n",
       "Open                                                                       \n",
       "221.309998    226.250000   218.639999   225.229996  4352800   225.229996   \n",
       "222.300003    225.160004   218.179993   220.600006  3404700   220.600006   \n",
       "225.119995    227.899994   224.710007   226.600006  2629800   226.600006   \n",
       "226.259995    230.970001   224.600006   226.309998  3092500   226.309998   \n",
       "226.500000    227.410004   222.509995   222.949997  3034100   222.949997   \n",
       "...                  ...          ...          ...      ...          ...   \n",
       "3708.850098  3717.659912  3660.830078  3681.679932  3296600  3681.679932   \n",
       "3712.689941  3762.149902  3675.719971  3676.570068  4936700  3676.570068   \n",
       "3717.379883  3734.199951  3678.909912  3696.580078  5328100  3696.580078   \n",
       "3722.520020  3748.000000  3693.399902  3719.340088  3748200  3719.340088   \n",
       "3744.000000  3757.290039  3696.790039  3718.550049  2571600  3718.550049   \n",
       "\n",
       "             pct_chng  \n",
       "Open                   \n",
       "221.309998   0.020988  \n",
       "222.300003  -0.010540  \n",
       "225.119995   0.000574  \n",
       "226.259995  -0.004574  \n",
       "226.500000  -0.016108  \n",
       "...               ...  \n",
       "3708.850098  0.001175  \n",
       "3712.689941 -0.005273  \n",
       "3717.379883  0.005670  \n",
       "3722.520020 -0.003235  \n",
       "3744.000000 -0.000212  \n",
       "\n",
       "[2255 rows x 6 columns]"
      ]
     },
     "execution_count": 23,
     "metadata": {},
     "output_type": "execute_result"
    }
   ],
   "source": [
    "amzn.groupby(['Open']).sum() # Have to give a list"
   ]
  },
  {
   "cell_type": "code",
   "execution_count": 24,
   "id": "740833ce",
   "metadata": {},
   "outputs": [
    {
     "data": {
      "text/plain": [
       "Date\n",
       "2017-01-31    1.660005e+06\n",
       "2017-02-28    1.351768e+06\n",
       "2017-03-31    1.471091e+06\n",
       "2017-04-30    1.327300e+06\n",
       "2017-05-31    1.462732e+06\n",
       "                  ...     \n",
       "2021-10-31    1.182314e+06\n",
       "2021-11-30    1.055119e+06\n",
       "2021-12-31    1.088864e+06\n",
       "2022-01-31    1.538730e+06\n",
       "2022-02-28    3.088200e+06\n",
       "Freq: M, Name: Volume, Length: 62, dtype: float64"
      ]
     },
     "execution_count": 24,
     "metadata": {},
     "output_type": "execute_result"
    }
   ],
   "source": [
    "goog['Volume'][goog.index>'2017'].resample('M').mean()"
   ]
  },
  {
   "cell_type": "code",
   "execution_count": 25,
   "id": "2801784c",
   "metadata": {},
   "outputs": [
    {
     "data": {
      "text/plain": [
       "<AxesSubplot:xlabel='Date'>"
      ]
     },
     "execution_count": 25,
     "metadata": {},
     "output_type": "execute_result"
    },
    {
     "data": {
      "image/png": "[encoded data removed]",
      "text/plain": [
       "<Figure size 432x288 with 1 Axes>"
      ]
     },
     "metadata": {
      "needs_background": "light"
     },
     "output_type": "display_data"
    }
   ],
   "source": [
    "goog['Volume'][goog.index>'2017'].resample('M').mean().plot()"
   ]
  },
  {
   "cell_type": "markdown",
   "id": "b7c4c587",
   "metadata": {},
   "source": [
    "### 10. Cumulative Sum and Rolling Calculations"
   ]
  },
  {
   "cell_type": "code",
   "execution_count": 26,
   "id": "c272f477",
   "metadata": {},
   "outputs": [],
   "source": [
    "amzn_change = np.log(amzn.Close / amzn.Close.shift(1)) #today's close / next day's close\n",
    "goog_change = np.log(goog.Close / goog.Close.shift(1))"
   ]
  },
  {
   "cell_type": "code",
   "execution_count": 27,
   "id": "d348fb34",
   "metadata": {},
   "outputs": [
    {
     "data": {
      "text/plain": [
       "<AxesSubplot:xlabel='Date'>"
      ]
     },
     "execution_count": 27,
     "metadata": {},
     "output_type": "execute_result"
    },
    {
     "data": {
      "image/png": "[encoded data removed]",
      "text/plain": [
       "<Figure size 432x288 with 1 Axes>"
      ]
     },
     "metadata": {
      "needs_background": "light"
     },
     "output_type": "display_data"
    }
   ],
   "source": [
    "amzn_change.cumsum().plot()\n",
    "goog_change.cumsum().plot()"
   ]
  },
  {
   "cell_type": "code",
   "execution_count": 28,
   "id": "8558da0f",
   "metadata": {},
   "outputs": [
    {
     "data": {
      "text/plain": [
       "<AxesSubplot:xlabel='Date'>"
      ]
     },
     "execution_count": 28,
     "metadata": {},
     "output_type": "execute_result"
    },
    {
     "data": {
      "image/png": "[encoded data removed]",
      "text/plain": [
       "<Figure size 432x288 with 1 Axes>"
      ]
     },
     "metadata": {
      "needs_background": "light"
     },
     "output_type": "display_data"
    }
   ],
   "source": [
    "amzn_change.plot()"
   ]
  },
  {
   "cell_type": "code",
   "execution_count": 29,
   "id": "daa031c0",
   "metadata": {},
   "outputs": [
    {
     "data": {
      "text/plain": [
       "<AxesSubplot:xlabel='Date'>"
      ]
     },
     "execution_count": 29,
     "metadata": {},
     "output_type": "execute_result"
    },
    {
     "data": {
      "image/png": "[encoded data removed]",
      "text/plain": [
       "<Figure size 432x288 with 1 Axes>"
      ]
     },
     "metadata": {
      "needs_background": "light"
     },
     "output_type": "display_data"
    }
   ],
   "source": [
    "goog_change.cumsum().plot()"
   ]
  },
  {
   "cell_type": "markdown",
   "id": "414e6f89",
   "metadata": {},
   "source": [
    "### 11. Create new dataFrame and Save to CSV"
   ]
  },
  {
   "cell_type": "code",
   "execution_count": 30,
   "id": "1465565f",
   "metadata": {},
   "outputs": [
    {
     "data": {
      "text/html": [
       "<div>\n",
       "<style scoped>\n",
       "    .dataframe tbody tr th:only-of-type {\n",
       "        vertical-align: middle;\n",
       "    }\n",
       "\n",
       "    .dataframe tbody tr th {\n",
       "        vertical-align: top;\n",
       "    }\n",
       "\n",
       "    .dataframe thead th {\n",
       "        text-align: right;\n",
       "    }\n",
       "</style>\n",
       "<table border=\"1\" class=\"dataframe\">\n",
       "  <thead>\n",
       "    <tr style=\"text-align: right;\">\n",
       "      <th></th>\n",
       "      <th>AMAZON_Change</th>\n",
       "      <th>GOOG_Change</th>\n",
       "    </tr>\n",
       "    <tr>\n",
       "      <th>Date</th>\n",
       "      <th></th>\n",
       "      <th></th>\n",
       "    </tr>\n",
       "  </thead>\n",
       "  <tbody>\n",
       "    <tr>\n",
       "      <th>2012-11-02</th>\n",
       "      <td>0.001205</td>\n",
       "      <td>0.000480</td>\n",
       "    </tr>\n",
       "    <tr>\n",
       "      <th>2012-11-05</th>\n",
       "      <td>0.008184</td>\n",
       "      <td>-0.007236</td>\n",
       "    </tr>\n",
       "    <tr>\n",
       "      <th>2012-11-06</th>\n",
       "      <td>0.013690</td>\n",
       "      <td>-0.001817</td>\n",
       "    </tr>\n",
       "    <tr>\n",
       "      <th>2012-11-07</th>\n",
       "      <td>-0.023424</td>\n",
       "      <td>-0.021649</td>\n",
       "    </tr>\n",
       "    <tr>\n",
       "      <th>2012-11-08</th>\n",
       "      <td>-0.020505</td>\n",
       "      <td>-0.022481</td>\n",
       "    </tr>\n",
       "  </tbody>\n",
       "</table>\n",
       "</div>"
      ],
      "text/plain": [
       "            AMAZON_Change  GOOG_Change\n",
       "Date                                  \n",
       "2012-11-02       0.001205     0.000480\n",
       "2012-11-05       0.008184    -0.007236\n",
       "2012-11-06       0.013690    -0.001817\n",
       "2012-11-07      -0.023424    -0.021649\n",
       "2012-11-08      -0.020505    -0.022481"
      ]
     },
     "execution_count": 30,
     "metadata": {},
     "output_type": "execute_result"
    }
   ],
   "source": [
    "new=pd.DataFrame({'AMAZON_Change':amzn_change[1:], 'GOOG_Change':goog_change[1:]})\n",
    "new.head()"
   ]
  },
  {
   "cell_type": "code",
   "execution_count": 31,
   "id": "7af31616",
   "metadata": {},
   "outputs": [],
   "source": [
    "new.to_csv('stocks.csv')"
   ]
  },
  {
   "cell_type": "code",
   "execution_count": 32,
   "id": "d2823940",
   "metadata": {},
   "outputs": [
    {
     "data": {
      "text/html": [
       "<div>\n",
       "<style scoped>\n",
       "    .dataframe tbody tr th:only-of-type {\n",
       "        vertical-align: middle;\n",
       "    }\n",
       "\n",
       "    .dataframe tbody tr th {\n",
       "        vertical-align: top;\n",
       "    }\n",
       "\n",
       "    .dataframe thead th {\n",
       "        text-align: right;\n",
       "    }\n",
       "</style>\n",
       "<table border=\"1\" class=\"dataframe\">\n",
       "  <thead>\n",
       "    <tr style=\"text-align: right;\">\n",
       "      <th></th>\n",
       "      <th>Date</th>\n",
       "      <th>AMAZON_Change</th>\n",
       "      <th>GOOG_Change</th>\n",
       "    </tr>\n",
       "  </thead>\n",
       "  <tbody>\n",
       "    <tr>\n",
       "      <th>0</th>\n",
       "      <td>2012-11-02</td>\n",
       "      <td>0.001205</td>\n",
       "      <td>0.000480</td>\n",
       "    </tr>\n",
       "    <tr>\n",
       "      <th>1</th>\n",
       "      <td>2012-11-05</td>\n",
       "      <td>0.008184</td>\n",
       "      <td>-0.007236</td>\n",
       "    </tr>\n",
       "    <tr>\n",
       "      <th>2</th>\n",
       "      <td>2012-11-06</td>\n",
       "      <td>0.013690</td>\n",
       "      <td>-0.001817</td>\n",
       "    </tr>\n",
       "    <tr>\n",
       "      <th>3</th>\n",
       "      <td>2012-11-07</td>\n",
       "      <td>-0.023424</td>\n",
       "      <td>-0.021649</td>\n",
       "    </tr>\n",
       "    <tr>\n",
       "      <th>4</th>\n",
       "      <td>2012-11-08</td>\n",
       "      <td>-0.020505</td>\n",
       "      <td>-0.022481</td>\n",
       "    </tr>\n",
       "  </tbody>\n",
       "</table>\n",
       "</div>"
      ],
      "text/plain": [
       "         Date  AMAZON_Change  GOOG_Change\n",
       "0  2012-11-02       0.001205     0.000480\n",
       "1  2012-11-05       0.008184    -0.007236\n",
       "2  2012-11-06       0.013690    -0.001817\n",
       "3  2012-11-07      -0.023424    -0.021649\n",
       "4  2012-11-08      -0.020505    -0.022481"
      ]
     },
     "execution_count": 32,
     "metadata": {},
     "output_type": "execute_result"
    }
   ],
   "source": [
    "pd.read_csv('stocks.csv').head()"
   ]
  },
  {
   "cell_type": "markdown",
   "id": "eabdd5a2",
   "metadata": {},
   "source": [
    "### 12.Change the index and remove columns"
   ]
  },
  {
   "cell_type": "code",
   "execution_count": 33,
   "id": "2a80ca49",
   "metadata": {},
   "outputs": [
    {
     "data": {
      "text/html": [
       "<div>\n",
       "<style scoped>\n",
       "    .dataframe tbody tr th:only-of-type {\n",
       "        vertical-align: middle;\n",
       "    }\n",
       "\n",
       "    .dataframe tbody tr th {\n",
       "        vertical-align: top;\n",
       "    }\n",
       "\n",
       "    .dataframe thead th {\n",
       "        text-align: right;\n",
       "    }\n",
       "</style>\n",
       "<table border=\"1\" class=\"dataframe\">\n",
       "  <thead>\n",
       "    <tr style=\"text-align: right;\">\n",
       "      <th></th>\n",
       "      <th>Date</th>\n",
       "      <th>AMAZON_Change</th>\n",
       "      <th>GOOG_Change</th>\n",
       "    </tr>\n",
       "    <tr>\n",
       "      <th>Date</th>\n",
       "      <th></th>\n",
       "      <th></th>\n",
       "      <th></th>\n",
       "    </tr>\n",
       "  </thead>\n",
       "  <tbody>\n",
       "    <tr>\n",
       "      <th>2012-11-02</th>\n",
       "      <td>2012-11-02</td>\n",
       "      <td>0.001205</td>\n",
       "      <td>0.000480</td>\n",
       "    </tr>\n",
       "    <tr>\n",
       "      <th>2012-11-05</th>\n",
       "      <td>2012-11-05</td>\n",
       "      <td>0.008184</td>\n",
       "      <td>-0.007236</td>\n",
       "    </tr>\n",
       "    <tr>\n",
       "      <th>2012-11-06</th>\n",
       "      <td>2012-11-06</td>\n",
       "      <td>0.013690</td>\n",
       "      <td>-0.001817</td>\n",
       "    </tr>\n",
       "    <tr>\n",
       "      <th>2012-11-07</th>\n",
       "      <td>2012-11-07</td>\n",
       "      <td>-0.023424</td>\n",
       "      <td>-0.021649</td>\n",
       "    </tr>\n",
       "    <tr>\n",
       "      <th>2012-11-08</th>\n",
       "      <td>2012-11-08</td>\n",
       "      <td>-0.020505</td>\n",
       "      <td>-0.022481</td>\n",
       "    </tr>\n",
       "  </tbody>\n",
       "</table>\n",
       "</div>"
      ],
      "text/plain": [
       "                  Date  AMAZON_Change  GOOG_Change\n",
       "Date                                              \n",
       "2012-11-02  2012-11-02       0.001205     0.000480\n",
       "2012-11-05  2012-11-05       0.008184    -0.007236\n",
       "2012-11-06  2012-11-06       0.013690    -0.001817\n",
       "2012-11-07  2012-11-07      -0.023424    -0.021649\n",
       "2012-11-08  2012-11-08      -0.020505    -0.022481"
      ]
     },
     "execution_count": 33,
     "metadata": {},
     "output_type": "execute_result"
    }
   ],
   "source": [
    "new_stocks = pd.read_csv('stocks.csv')\n",
    "new_stocks.index = new_stocks.Date\n",
    "new_stocks.head()"
   ]
  },
  {
   "cell_type": "code",
   "execution_count": 34,
   "id": "5b964012",
   "metadata": {},
   "outputs": [
    {
     "data": {
      "text/html": [
       "<div>\n",
       "<style scoped>\n",
       "    .dataframe tbody tr th:only-of-type {\n",
       "        vertical-align: middle;\n",
       "    }\n",
       "\n",
       "    .dataframe tbody tr th {\n",
       "        vertical-align: top;\n",
       "    }\n",
       "\n",
       "    .dataframe thead th {\n",
       "        text-align: right;\n",
       "    }\n",
       "</style>\n",
       "<table border=\"1\" class=\"dataframe\">\n",
       "  <thead>\n",
       "    <tr style=\"text-align: right;\">\n",
       "      <th></th>\n",
       "      <th>AMAZON_Change</th>\n",
       "      <th>GOOG_Change</th>\n",
       "    </tr>\n",
       "    <tr>\n",
       "      <th>Date</th>\n",
       "      <th></th>\n",
       "      <th></th>\n",
       "    </tr>\n",
       "  </thead>\n",
       "  <tbody>\n",
       "    <tr>\n",
       "      <th>2012-11-02</th>\n",
       "      <td>0.001205</td>\n",
       "      <td>0.000480</td>\n",
       "    </tr>\n",
       "    <tr>\n",
       "      <th>2012-11-05</th>\n",
       "      <td>0.008184</td>\n",
       "      <td>-0.007236</td>\n",
       "    </tr>\n",
       "    <tr>\n",
       "      <th>2012-11-06</th>\n",
       "      <td>0.013690</td>\n",
       "      <td>-0.001817</td>\n",
       "    </tr>\n",
       "    <tr>\n",
       "      <th>2012-11-07</th>\n",
       "      <td>-0.023424</td>\n",
       "      <td>-0.021649</td>\n",
       "    </tr>\n",
       "    <tr>\n",
       "      <th>2012-11-08</th>\n",
       "      <td>-0.020505</td>\n",
       "      <td>-0.022481</td>\n",
       "    </tr>\n",
       "  </tbody>\n",
       "</table>\n",
       "</div>"
      ],
      "text/plain": [
       "            AMAZON_Change  GOOG_Change\n",
       "Date                                  \n",
       "2012-11-02       0.001205     0.000480\n",
       "2012-11-05       0.008184    -0.007236\n",
       "2012-11-06       0.013690    -0.001817\n",
       "2012-11-07      -0.023424    -0.021649\n",
       "2012-11-08      -0.020505    -0.022481"
      ]
     },
     "execution_count": 34,
     "metadata": {},
     "output_type": "execute_result"
    }
   ],
   "source": [
    "new_stocks.drop(['Date'],axis=1, inplace=True) #axis 0 row, axis 1 column\n",
    "new_stocks.head()"
   ]
  },
  {
   "cell_type": "markdown",
   "id": "197cfbb0",
   "metadata": {},
   "source": [
    "### 13.Rename Columns"
   ]
  },
  {
   "cell_type": "code",
   "execution_count": 35,
   "id": "1d55edc1",
   "metadata": {},
   "outputs": [
    {
     "data": {
      "text/html": [
       "<div>\n",
       "<style scoped>\n",
       "    .dataframe tbody tr th:only-of-type {\n",
       "        vertical-align: middle;\n",
       "    }\n",
       "\n",
       "    .dataframe tbody tr th {\n",
       "        vertical-align: top;\n",
       "    }\n",
       "\n",
       "    .dataframe thead th {\n",
       "        text-align: right;\n",
       "    }\n",
       "</style>\n",
       "<table border=\"1\" class=\"dataframe\">\n",
       "  <thead>\n",
       "    <tr style=\"text-align: right;\">\n",
       "      <th></th>\n",
       "      <th>AMZN_Change</th>\n",
       "      <th>GOOG_Change</th>\n",
       "    </tr>\n",
       "    <tr>\n",
       "      <th>Date</th>\n",
       "      <th></th>\n",
       "      <th></th>\n",
       "    </tr>\n",
       "  </thead>\n",
       "  <tbody>\n",
       "    <tr>\n",
       "      <th>2012-11-02</th>\n",
       "      <td>0.001205</td>\n",
       "      <td>0.000480</td>\n",
       "    </tr>\n",
       "    <tr>\n",
       "      <th>2012-11-05</th>\n",
       "      <td>0.008184</td>\n",
       "      <td>-0.007236</td>\n",
       "    </tr>\n",
       "    <tr>\n",
       "      <th>2012-11-06</th>\n",
       "      <td>0.013690</td>\n",
       "      <td>-0.001817</td>\n",
       "    </tr>\n",
       "    <tr>\n",
       "      <th>2012-11-07</th>\n",
       "      <td>-0.023424</td>\n",
       "      <td>-0.021649</td>\n",
       "    </tr>\n",
       "    <tr>\n",
       "      <th>2012-11-08</th>\n",
       "      <td>-0.020505</td>\n",
       "      <td>-0.022481</td>\n",
       "    </tr>\n",
       "  </tbody>\n",
       "</table>\n",
       "</div>"
      ],
      "text/plain": [
       "            AMZN_Change  GOOG_Change\n",
       "Date                                \n",
       "2012-11-02     0.001205     0.000480\n",
       "2012-11-05     0.008184    -0.007236\n",
       "2012-11-06     0.013690    -0.001817\n",
       "2012-11-07    -0.023424    -0.021649\n",
       "2012-11-08    -0.020505    -0.022481"
      ]
     },
     "execution_count": 35,
     "metadata": {},
     "output_type": "execute_result"
    }
   ],
   "source": [
    "new_stocks.rename(columns={'AMAZON_Change':'AMZN_Change'}, inplace=True)\n",
    "new_stocks.head()"
   ]
  }
 ],
 "metadata": {
  "kernelspec": {
   "display_name": "Python 3 (ipykernel)",
   "language": "python",
   "name": "python3"
  },
  "language_info": {
   "codemirror_mode": {
    "name": "ipython",
    "version": 3
   },
   "file_extension": ".py",
   "mimetype": "text/x-python",
   "name": "python",
   "nbconvert_exporter": "python",
   "pygments_lexer": "ipython3",
   "version": "3.9.7"
  }
 },
 "nbformat": 4,
 "nbformat_minor": 5
}
